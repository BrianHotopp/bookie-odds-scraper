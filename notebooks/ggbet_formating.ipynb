{
 "cells": [
  {
   "cell_type": "code",
   "execution_count": 5,
   "metadata": {},
   "outputs": [],
   "source": [
    "import requests\n",
    "from bs4 import BeautifulSoup\n",
    "import pandas as pd"
   ]
  },
  {
   "cell_type": "code",
   "execution_count": null,
   "metadata": {},
   "outputs": [],
   "source": []
  },
  {
   "cell_type": "code",
   "execution_count": 6,
   "metadata": {},
   "outputs": [],
   "source": [
    "URL = 'https://gg.bet/en/counter-strike'\n",
    "soup = BeautifulSoup(requests.get(URL).content, 'html.parser')"
   ]
  },
  {
   "cell_type": "code",
   "execution_count": 14,
   "metadata": {},
   "outputs": [],
   "source": [
    "# soup"
   ]
  },
  {
   "cell_type": "code",
   "execution_count": 7,
   "metadata": {},
   "outputs": [],
   "source": [
    "# soup"
   ]
  },
  {
   "cell_type": "code",
   "execution_count": 8,
   "metadata": {},
   "outputs": [],
   "source": [
    "# for data in soup.html.body:\n",
    "#     print(data)\n",
    "#     print(20*'-')\n",
    "# soup"
   ]
  },
  {
   "cell_type": "code",
   "execution_count": 9,
   "metadata": {},
   "outputs": [],
   "source": [
    "from selenium import webdriver\n",
    "driver = webdriver.Chrome(executable_path='/usr/local/bin/chromedriver') #executable_path=yourdriver\n",
    "driver.get(URL)\n",
    "html = driver.page_source"
   ]
  },
  {
   "cell_type": "code",
   "execution_count": 10,
   "metadata": {},
   "outputs": [],
   "source": [
    "driver.execute_script(\"window.scrollTo(0, document.body.scrollHeight);\")"
   ]
  },
  {
   "cell_type": "code",
   "execution_count": null,
   "metadata": {},
   "outputs": [],
   "source": []
  },
  {
   "cell_type": "code",
   "execution_count": 13,
   "metadata": {},
   "outputs": [],
   "source": [
    "table = driver.find_element_by_id('betting__container').text"
   ]
  },
  {
   "cell_type": "code",
   "execution_count": 14,
   "metadata": {},
   "outputs": [],
   "source": [
    "soup = BeautifulSoup(table, 'html.parser')"
   ]
  },
  {
   "cell_type": "code",
   "execution_count": 15,
   "metadata": {},
   "outputs": [],
   "source": [
    "def is_number(s):\n",
    "    try:\n",
    "        float(s)\n",
    "        return True\n",
    "    except ValueError:\n",
    "        return False\n",
    "\n",
    "def remove_header(html, cutoff='RESULTS', separator='\\n', padding_token='_PADDING_'):\n",
    "    tokenized_html = html.split(separator)\n",
    "    for idx, token in enumerate(tokenized_html):\n",
    "        if token == cutoff:\n",
    "            break\n",
    "    headless_html = padding_token.join(tokenized_html[idx+1:])\n",
    "    return headless_html\n",
    "    \n",
    "def insert_row_breaks(html, separator='_PADDING_', row_break_token='_ROW_BREAK_', padding_token='_PADDING_'):\n",
    "    tokenized_html = html.split(separator)\n",
    "    num_tokens = len(tokenized_html)\n",
    "    insert = False\n",
    "    processed_html = [tokenized_html[0]]\n",
    "    for idx in range(1, num_tokens):        \n",
    "        if insert and not is_number(tokenized_html[idx]):\n",
    "            insert = False\n",
    "            processed_html.append(row_break_token)\n",
    "        elif tokenized_html[idx - 1] == 'Over' and tokenized_html[idx] == 'Under':\n",
    "            insert = True\n",
    "            continue\n",
    "        processed_html.append(tokenized_html[idx])\n",
    "    processed_html = padding_token.join(processed_html)\n",
    "    return processed_html\n",
    "\n",
    "def idx_search(l, s, warn_on_failure=True):\n",
    "    \"\"\"Get the index of the first occurance of a string of characters in a list.\"\"\"\n",
    "    \n",
    "    res_idx = -1\n",
    "    for idx, token in enumerate(l):\n",
    "        if s in token:\n",
    "            res_idx = idx\n",
    "            break\n",
    "    if warn_on_failure and res_idx == -1:\n",
    "        raise IndexSearchFailure()\n",
    "            \n",
    "    return res_idx\n",
    "\n",
    "def get_tournament_name(token_list, stopwords, default=\"NA\"):\n",
    "    \"\"\"Extract the tournament name.\"\"\"\n",
    "    \n",
    "    tournament_name = default\n",
    "    filtered_tokens = set(token_list) - stopwords\n",
    "    if len(filtered_tokens) == 1:  # exact match\n",
    "        tournament_name = filtered_tokens.pop()\n",
    "    elif len(filtered_tokens) > 1:  # not exact match - additional cleaning\n",
    "        tournament_name = default  # TODO: implement additional cleaning\n",
    "        \n",
    "    return tournament_name\n",
    "\n",
    "def get_time():\n",
    "    return\n",
    "    \n",
    "    \n",
    "class IndexSearchFailure(Exception):\n",
    "    pass\n",
    "\n",
    "class FormattingError(Exception):\n",
    "    pass\n",
    "\n",
    "\n",
    "def encode_row(row, separator='_PADDING_', stopwords={'_', 'LIVE', '', '-'}):\n",
    "    # TODO: NA is previous tournament, means no column headers\n",
    "    \n",
    "    result = {}\n",
    "    row = row.split(separator)\n",
    "    \n",
    "    time_idx = idx_search(row, ':')  # time index search might fail if the game is live\n",
    "    result['tournament_name'] = get_tournament_name(row[:time_idx], stopwords)\n",
    "    result['time'] = row[time_idx]\n",
    "    result['date'] = row[time_idx + 1]\n",
    "    \n",
    "    row = row[time_idx + 2:]\n",
    "    winner_idx = idx_search(row, 'WINNER')\n",
    "    if 'Total' in row[:winner_idx]:  # bad fit -> correct\n",
    "        contestants = []\n",
    "        for winner_idx, token in enumerate(row):\n",
    "            if is_number(token):\n",
    "                winner_idx += 1\n",
    "                break\n",
    "            contestants.append(token)\n",
    "        result['contestants'] = contestants\n",
    "    else:  \n",
    "        result['contestants'] = row[:winner_idx]\n",
    "\n",
    "    row = row[winner_idx+1:]\n",
    " \n",
    "    # winner odds\n",
    "    result['winner_odds'] = row[:2]\n",
    "\n",
    "    row = row[2:]\n",
    "\n",
    "    # round handicap\n",
    "    result['handicap_type'] = row[0]\n",
    "    result['handicap_odds'] = row[1:5]\n",
    "    \n",
    "    row = row[5:]\n",
    "    \n",
    "    if len(row) < 6:  # fails on multi-team tournaments\n",
    "        raise FormattingError()\n",
    "    \n",
    "    result['map_type'] = row[0]\n",
    "    result['map_total'] = row[3]\n",
    "    result['map_over_odds'] = row[4]\n",
    "    result['map_under_odds'] = row[5]\n",
    "    \n",
    "    return result"
   ]
  },
  {
   "cell_type": "code",
   "execution_count": 71,
   "metadata": {},
   "outputs": [],
   "source": [
    "text = remove_header(soup.text)\n",
    "text = insert_row_breaks(text)\n",
    "rows = text.split('_ROW_BREAK_')\n",
    "table_data = []\n",
    "for row in rows:\n",
    "    try:\n",
    "        result = encode_row(row)\n",
    "        result['team_1'] = result['contestants'][0]\n",
    "        result['team_1_winner_odds'] = result['winner_odds'][0]\n",
    "        result['team_2'] = result['contestants'][2]\n",
    "        result['team_2_winnder_odds'] = result['winner_odds'][1]\n",
    "        if result['date'] == \"TODAY\":\n",
    "            continue\n",
    "        result['time'] = datetime.datetime.strptime(result['date'] + ' ' + result['time'], '%b %d %H:%M').replace(year=2019)\n",
    "        result['time'] = datetime.datetime.timestamp(result['time'])\n",
    "        del result['contestants']\n",
    "        del result['winner_odds']\n",
    "        del result['handicap_odds']\n",
    "        del result['handicap_type']\n",
    "        del result['map_type']\n",
    "        del result['map_total']\n",
    "        del result['map_over_odds']\n",
    "        del result['map_under_odds']\n",
    "        table_data.append(result)\n",
    "    except (IndexSearchFailure, FormattingError):\n",
    "        pass"
   ]
  },
  {
   "cell_type": "code",
   "execution_count": 72,
   "metadata": {},
   "outputs": [
    {
     "data": {
      "text/html": [
       "<div>\n",
       "<style scoped>\n",
       "    .dataframe tbody tr th:only-of-type {\n",
       "        vertical-align: middle;\n",
       "    }\n",
       "\n",
       "    .dataframe tbody tr th {\n",
       "        vertical-align: top;\n",
       "    }\n",
       "\n",
       "    .dataframe thead th {\n",
       "        text-align: right;\n",
       "    }\n",
       "</style>\n",
       "<table border=\"1\" class=\"dataframe\">\n",
       "  <thead>\n",
       "    <tr style=\"text-align: right;\">\n",
       "      <th></th>\n",
       "      <th>date</th>\n",
       "      <th>team_1</th>\n",
       "      <th>team_1_winner_odds</th>\n",
       "      <th>team_2</th>\n",
       "      <th>team_2_winnder_odds</th>\n",
       "      <th>time</th>\n",
       "      <th>tournament_name</th>\n",
       "    </tr>\n",
       "  </thead>\n",
       "  <tbody>\n",
       "    <tr>\n",
       "      <th>0</th>\n",
       "      <td>JUL 11</td>\n",
       "      <td>TRICKED</td>\n",
       "      <td>1.63</td>\n",
       "      <td>Nordavind</td>\n",
       "      <td>2.17</td>\n",
       "      <td>1.562842e+09</td>\n",
       "      <td>UCC SUMMER SMASH</td>\n",
       "    </tr>\n",
       "    <tr>\n",
       "      <th>1</th>\n",
       "      <td>JUL 11</td>\n",
       "      <td>Nemiga</td>\n",
       "      <td>1.20</td>\n",
       "      <td>AGO</td>\n",
       "      <td>4.20</td>\n",
       "      <td>1.562843e+09</td>\n",
       "      <td>GAMEAGENTS LEAGUE SEASON 3</td>\n",
       "    </tr>\n",
       "    <tr>\n",
       "      <th>2</th>\n",
       "      <td>JUL 11</td>\n",
       "      <td>Illuminar</td>\n",
       "      <td>2.60</td>\n",
       "      <td>Aristocracy</td>\n",
       "      <td>1.45</td>\n",
       "      <td>1.562853e+09</td>\n",
       "      <td>UCC SUMMER SMASH</td>\n",
       "    </tr>\n",
       "    <tr>\n",
       "      <th>3</th>\n",
       "      <td>JUL 11</td>\n",
       "      <td>Nordavind</td>\n",
       "      <td>2.76</td>\n",
       "      <td>forZe</td>\n",
       "      <td>1.41</td>\n",
       "      <td>1.562860e+09</td>\n",
       "      <td>LOOT.BET SMACK MY BEACH CUP</td>\n",
       "    </tr>\n",
       "    <tr>\n",
       "      <th>4</th>\n",
       "      <td>JUL 11</td>\n",
       "      <td>Lyngby Vikings</td>\n",
       "      <td>6.07</td>\n",
       "      <td>TRICKED</td>\n",
       "      <td>1.10</td>\n",
       "      <td>1.562868e+09</td>\n",
       "      <td>NA</td>\n",
       "    </tr>\n",
       "  </tbody>\n",
       "</table>\n",
       "</div>"
      ],
      "text/plain": [
       "     date          team_1  team_1_winner_odds       team_2  \\\n",
       "0  JUL 11         TRICKED                1.63    Nordavind   \n",
       "1  JUL 11          Nemiga                1.20          AGO   \n",
       "2  JUL 11       Illuminar                2.60  Aristocracy   \n",
       "3  JUL 11       Nordavind                2.76        forZe   \n",
       "4  JUL 11  Lyngby Vikings                6.07      TRICKED   \n",
       "\n",
       "   team_2_winnder_odds          time              tournament_name  \n",
       "0                 2.17  1.562842e+09             UCC SUMMER SMASH  \n",
       "1                 4.20  1.562843e+09   GAMEAGENTS LEAGUE SEASON 3  \n",
       "2                 1.45  1.562853e+09             UCC SUMMER SMASH  \n",
       "3                 1.41  1.562860e+09  LOOT.BET SMACK MY BEACH CUP  \n",
       "4                 1.10  1.562868e+09                           NA  "
      ]
     },
     "execution_count": 72,
     "metadata": {},
     "output_type": "execute_result"
    }
   ],
   "source": [
    "df = pd.DataFrame(table_data)\n",
    "numeric_cols = ['team_1_winner_odds', 'team_2_winnder_odds']\n",
    "df[numeric_cols] = df[numeric_cols].apply(pd.to_numeric, errors='coerce')\n",
    "df"
   ]
  },
  {
   "cell_type": "code",
   "execution_count": 73,
   "metadata": {},
   "outputs": [
    {
     "data": {
      "text/plain": [
       "date                    object\n",
       "team_1                  object\n",
       "team_1_winner_odds     float64\n",
       "team_2                  object\n",
       "team_2_winnder_odds    float64\n",
       "time                   float64\n",
       "tournament_name         object\n",
       "dtype: object"
      ]
     },
     "execution_count": 73,
     "metadata": {},
     "output_type": "execute_result"
    }
   ],
   "source": [
    "df.dtypes"
   ]
  },
  {
   "cell_type": "code",
   "execution_count": 20,
   "metadata": {},
   "outputs": [
    {
     "data": {
      "text/plain": [
       "(6, 11)"
      ]
     },
     "execution_count": 20,
     "metadata": {},
     "output_type": "execute_result"
    }
   ],
   "source": [
    "df.shape"
   ]
  },
  {
   "cell_type": "code",
   "execution_count": 60,
   "metadata": {},
   "outputs": [
    {
     "data": {
      "text/plain": [
       "datetime.datetime(2019, 7, 11, 22, 30)"
      ]
     },
     "execution_count": 60,
     "metadata": {},
     "output_type": "execute_result"
    }
   ],
   "source": [
    "import datetime\n",
    "\n",
    "dt = datetime.datetime.strptime('JUL 11 22:30', '%b %d %H:%M').replace(year=2019)\n",
    "dt"
   ]
  },
  {
   "cell_type": "code",
   "execution_count": null,
   "metadata": {},
   "outputs": [],
   "source": [
    "\n",
    "def db_insert(data):\n",
    "\t\"\"\"Insert ggbet data into database.\"\"\"\n",
    "\n",
    "\tconn = None\n",
    "\tinsert_statement = \"\"\"\n",
    "\t\tINSERT INTO csgo_winner_odds (team_1, team_2, team_1_winner_odds, team_2_winner_odds, match_time, tournament_name, source)\n",
    "\t\tVALUES (%s, %s, %s, %s, %s, %s, %s);\n",
    "\t\"\"\"\n",
    "    \n",
    "\ttry:\n",
    "\t\tconn = psycopg2.connect(**DATABASE)\n",
    "\t\tcursor = conn.cursor()\n",
    "\t\tcursor.executemany(insert_statement, data)\n",
    "\t\tconn.commit()\n",
    "\t\tcursor.close()\n",
    "\t\tlogger.info(\"Inserted %s rows.\", len(data))\n",
    "\texcept psycopg2.DatabaseError:\n",
    "\t\tlogger.error(\"Failed db insert.\")\n",
    "\tfinally:\n",
    "\t\tif conn:\n",
    "\t\t\tconn.close()"
   ]
  },
  {
   "cell_type": "code",
   "execution_count": 14,
   "metadata": {},
   "outputs": [
    {
     "data": {
      "text/plain": [
       "'FILTERS\\nLIVE\\nOF THE DAY\\nWINNER\\nOnLANers\\n3.01\\nElectronik Generation\\n1.35\\n+13\\nUPCOMING GAMES\\nOUTRIGHTS\\nRESULTS\\nLIGA PORTUGUESA SUMMER 2019 - DIVISION 2\\nLIVE\\nTODAY\\nOnLANers\\nX\\nElectronik Generation\\nSCORE\\n0\\n0\\nWINNER\\n3.01\\n1.35\\n1ST MAP - ROUND HANDICAP (INCL. OVERTIME)\\n+3.5\\n1.89\\n-3.5\\n1.84\\n1ST MAP - TOTAL ROUNDS (INCL. OVERTIME)\\nTotal\\nOver\\nUnder\\n27.5\\n2.05\\n1.71\\nSTREAM\\n11\\nBRASIL GAME CUP 2019\\nLIVE\\n16:00\\nTODAY\\nIsurus\\nX\\nBulldozer\\nWINNER\\n1.1\\n6.15\\n1ST MAP - ROUND HANDICAP (INCL. OVERTIME)\\n-7.5\\n1.75\\n+7.5\\n1.99\\n1ST MAP - TOTAL ROUNDS (INCL. OVERTIME)\\nTotal\\nOver\\nUnder\\n23.5\\n1.77\\n1.96\\n15\\nAMD RED LEAGUE NORTHERN CONE 2019\\nLIVE\\n18:00\\nTODAY\\nAnunnaki\\nX\\nDivine Soldiers\\nWINNER\\n1.42\\n2.73\\nHANDICAP\\n-\\n-\\nTOTAL\\nTotal\\nOver\\nUnder\\n-\\n2\\nESL AUSTRALIA & NZ CHAMPIONSHIP\\nLIVE\\n01:30\\nJUL 09\\nChiefs\\nX\\nGround Zero\\nWINNER\\n1.19\\n4.31\\nMAP HANDICAP\\n-1.5\\n1.67\\n+1.5\\n2.1\\nTOTAL MAPS\\nTotal\\nOver\\nUnder\\n2.5\\n2.42\\n1.51\\n38\\nESL ONE NEW YORK 2019 EUROPE CLOSED QUALIFIER\\nLIVE\\n03:00\\nJUL 09\\nSprout\\nX\\nVitality\\nWINNER\\n4.39\\n1.18\\nMAP HANDICAP\\n+1.5\\n1.99\\n-1.5\\n1.75\\nTOTAL MAPS\\nTotal\\nOver\\nUnder\\n2.5\\n2.32\\n1.56\\n59\\nLIVE\\n03:00\\nJUL 09\\nG2\\nX\\nBLUEJAYS\\n1.02\\n10.4\\n-1.5\\n1.12\\n+1.5\\n5.53\\nTotal\\nOver\\nUnder\\n2.5\\n5.69\\n1.11\\n57\\nLIVE\\n03:00\\nJUL 09\\nmousesports\\nX\\nCR4ZY\\n1.26\\n3.56\\n-1.5\\n1.75\\n+1.5\\n1.99\\nTotal\\nOver\\nUnder\\n2.5\\n2.32\\n1.56\\n58\\nLIVE\\n03:00\\nJUL 09\\nTRICKED\\nX\\nBIG\\n3.08\\n1.34\\n+1.5\\n1.63\\n-1.5\\n2.17\\nTotal\\nOver\\nUnder\\n2.5\\n2.03\\n1.72\\n57\\nESL AUSTRALIA & NZ CHAMPIONSHIP\\nLIVE\\n04:30\\nJUL 09\\nGenuine\\nX\\nrewound\\nWINNER\\n1.53\\n2.38\\nMAP HANDICAP\\n-1.5\\n2.58\\n+1.5\\n1.46\\nTOTAL MAPS\\nTotal\\nOver\\nUnder\\n2.5\\n1.92\\n1.81\\n35\\nESEA ADVANCED SEASON 31 EUROPE\\nLIVE\\n06:30\\nJUL 09\\nGambit Youngsters\\nX\\nbuaksib\\nWINNER\\n1.19\\n4.23\\nMAP HANDICAP\\n-1.5\\n1.58\\n+1.5\\n2.27\\nTOTAL MAPS\\nTotal\\nOver\\nUnder\\n2.5\\n2.57\\n1.46\\n13\\nOGA COUNTER PIT BY AMD AND SAPPHIRE SEASON 5\\nLIVE\\n09:00\\nJUL 09\\nVega Squadron\\nX\\nCopenhagen Flames\\nWINNER\\n2.39\\n1.53\\nMAP HANDICAP\\n+1.5\\n1.47\\n-1.5\\n2.56\\nTOTAL MAPS\\nTotal\\nOver\\nUnder\\n2.5\\n1.93\\n1.8\\n35\\nESEA ADVANCED SEASON 31 EUROPE\\nLIVE\\n10:00\\nJUL 09\\nFierce Esports\\nX\\nNordavind\\nWINNER\\n3.25\\n1.31\\nMAP HANDICAP\\n+1.5\\n1.69\\n-1.5\\n2.08\\nTOTAL MAPS\\nTotal\\nOver\\nUnder\\n2.5\\n2.07\\n1.69\\n35\\n99LIGA SEASON 12\\nLIVE\\n11:00\\nJUL 09\\nALTERNATE aTTaX\\nX\\nTeam Prismatic\\n1\\nX\\n2\\n1.46\\n2.84\\n11.38\\nHANDICAP\\n-\\n-\\nTOTAL\\nTotal\\nOver\\nUnder\\n-\\n11\\nESEA ADVANCED SEASON 31 EUROPE\\nLIVE\\n11:00\\nJUL 09\\nPACT\\nX\\nAmbush\\nWINNER\\n1.35\\n2.99\\nMAP HANDICAP\\n-1.5\\n2.09\\n+1.5\\n1.68\\nTOTAL MAPS\\nTotal\\nOver\\nUnder\\n2.5\\n2.07\\n1.69\\n35\\nOGA COUNTER PIT BY AMD AND SAPPHIRE SEASON 5\\nLIVE\\n11:00\\nJUL 09\\nDreamEaters\\nX\\nHAVU\\nWINNER\\n2.38\\n1.53\\nMAP HANDICAP\\n+1.5\\n1.45\\n-1.5\\n2.61\\nTOTAL MAPS\\nTotal\\nOver\\nUnder\\n2.5\\n1.92\\n1.81\\n35\\nESEA OPEN SEASON 31 BRAZIL\\nLIVE\\n16:00\\nJUL 09\\nRed Canids\\nX\\npaiN\\nWINNER\\n3.2\\n1.31\\nMAP HANDICAP\\n+1.5\\n1.66\\n-1.5\\n2.12\\nTOTAL MAPS\\nTotal\\nOver\\nUnder\\n2.5\\n2.06\\n1.7\\n35\\nLIVE\\n16:00\\nJUL 09\\nReapers\\nX\\nFurious\\n1.11\\n5.9\\n-1.5\\n1.49\\n+1.5\\n2.5\\nTotal\\nOver\\nUnder\\n2.5\\n2.78\\n1.4\\n39\\nLIVE\\n18:00\\nJUL 09\\nDETONA\\nX\\nRejected\\n1.1\\n6.05\\n-1.5\\n1.38\\n+1.5\\n2.89\\nTotal\\nOver\\nUnder\\n2.5\\n3.14\\n1.32\\n39\\nUCC SUMMER SMASH\\nLIVE\\n02:55\\nJUL 10\\nNordavind\\nX\\nChaos\\nWINNER\\n1.94\\n1.79\\nMAP HANDICAP\\n+1.5\\n1.3\\n-1.5\\n3.29\\nTOTAL MAPS\\nTotal\\nOver\\nUnder\\n2.5\\n1.86\\n1.86\\n36\\nLIVE\\n05:55\\nJUL 10\\nNoChance\\nX\\nAristocracy\\n1.97\\n1.77\\n+1.5\\n1.3\\n-1.5\\n3.29\\nTotal\\nOver\\nUnder\\n2.5\\n1.86\\n1.86\\n36\\nESEA MDL SEASON 31 EUROPE\\nLIVE\\n10:30\\nJUL 12\\nVitality\\nX\\nSprout\\nWINNER\\n1.21\\n4.02\\nMAP HANDICAP\\n-1.5\\n1.71\\n+1.5\\n2.04\\nTOTAL MAPS\\nTotal\\nOver\\nUnder\\n2.5\\n2.37\\n1.54\\n43\\nGOOD GAME LEAGUE 2019\\nLIVE\\n01:00\\nJUL 13\\nAristocracy\\nX\\nTRICKED\\nWINNER\\n1.75\\n2\\n1ST MAP - ROUND HANDICAP (INCL. OVERTIME)\\n-3.5\\n2.33\\n+3.5\\n1.55\\n1ST MAP - TOTAL ROUNDS (INCL. OVERTIME)\\nTotal\\nOver\\nUnder\\n26.5\\n1.88\\n1.85\\n12\\nLIVE\\n01:00\\nJUL 13\\nG2\\nX\\nWinstrike\\n1.17\\n4.54\\n-6.5\\n1.9\\n+6.5\\n1.83\\nTotal\\nOver\\nUnder\\n24.5\\n1.73\\n2.02\\n15\\nLIVE\\n02:30\\nJUL 13\\nHellRaisers\\nX\\nGamerLegion\\n1.88\\n1.85\\n+3.5\\n1.49\\n-3.5\\n2.49\\nTotal\\nOver\\nUnder\\n26.5\\n1.88\\n1.85\\n11\\nLIVE\\n02:30\\nJUL 13\\nVirtus.Pro\\nX\\nEpsilon\\n2.39\\n1.53\\n+3.5\\n1.76\\n-3.5\\n1.98\\nTotal\\nOver\\nUnder\\n26.5\\n1.92\\n1.81\\n11\\nBLAST PRO SERIES: LOS ANGELES 2019\\nLIVE\\n11:00\\nJUL 13\\nMiBR\\nX\\nRenegades\\n1\\nX\\n2\\n2.08\\n10.38\\n1.88\\nHANDICAP\\n-\\n-\\nTOTAL\\nTotal\\nOver\\nUnder\\n-\\n63\\nLIVE\\n11:00\\nJUL 13\\nFaZe\\nX\\nNRG\\n2.82\\n11.25\\n1.5\\n-\\n-\\nTotal\\nOver\\nUnder\\n-\\n62\\nLIVE\\n12:30\\nJUL 13\\nFaZe\\nX\\nRenegades\\n1.83\\n10.4\\n2.13\\n-\\n-\\nTotal\\nOver\\nUnder\\n-\\n63\\nLIVE\\n12:30\\nJUL 13\\nLiquid\\nX\\nCloud9\\n1.17\\n13.51\\n5.48\\n-\\n-\\nTotal\\nOver\\nUnder\\n-\\n43\\nLIVE\\n14:00\\nJUL 13\\nMiBR\\nX\\nCloud9\\n1.73\\n9.04\\n2.36\\n-\\n-\\nTotal\\nOver\\nUnder\\n-\\n61\\nLIVE\\n14:00\\nJUL 13\\nLiquid\\nX\\nNRG\\n1.63\\n9.92\\n2.52\\n-\\n-\\nTotal\\nOver\\nUnder\\n-\\n63\\nLIVE\\n15:30\\nJUL 13\\nFaZe\\nX\\nCloud9\\n1.28\\n11.34\\n4.13\\n-\\n-\\nTotal\\nOver\\nUnder\\n-\\n61\\nLIVE\\n15:30\\nJUL 13\\nNRG\\nX\\nRenegades\\n1.6\\n10\\n2.59\\n-\\n-\\nTotal\\nOver\\nUnder\\n-\\n63\\nLIVE\\n17:00\\nJUL 13\\nCloud9\\nX\\nRenegades\\n3.63\\n11.67\\n1.33\\n-\\n-\\nTotal\\nOver\\nUnder\\n-\\n61\\nLIVE\\n17:00\\nJUL 13\\nMiBR\\nX\\nLiquid\\n5.05\\n12.92\\n1.19\\n-\\n-\\nTotal\\nOver\\nUnder\\n-\\n59\\nLIVE\\n18:30\\nJUL 13\\nFaZe\\nX\\nLiquid\\n2.71\\n10.16\\n1.55\\n-\\n-\\nTotal\\nOver\\nUnder\\n-\\n63\\nLIVE\\n18:30\\nJUL 13\\nMiBR\\nX\\nNRG\\n2.95\\n9.62\\n1.49\\n-\\n-\\nTotal\\nOver\\nUnder\\n-\\n61\\nLIVE\\n20:00\\nJUL 13\\nLiquid\\nX\\nRenegades\\n1.43\\n9.93\\n3.19\\n-\\n-\\nTotal\\nOver\\nUnder\\n-\\n61\\nLIVE\\n20:00\\nJUL 13\\nCloud9\\nX\\nNRG\\n4.02\\n11.17\\n1.29\\n-\\n-\\nTotal\\nOver\\nUnder\\n-\\n61\\nLIVE\\n20:00\\nJUL 13\\nMiBR\\nX\\nFaZe\\n2.71\\n10.16\\n1.55\\n-\\n-\\nTotal\\nOver\\nUnder\\n-\\n63'"
      ]
     },
     "execution_count": 14,
     "metadata": {},
     "output_type": "execute_result"
    }
   ],
   "source": [
    "soup.text"
   ]
  },
  {
   "cell_type": "code",
   "execution_count": null,
   "metadata": {},
   "outputs": [],
   "source": []
  },
  {
   "cell_type": "code",
   "execution_count": null,
   "metadata": {},
   "outputs": [],
   "source": []
  }
 ],
 "metadata": {
  "kernelspec": {
   "display_name": "Python 3",
   "language": "python",
   "name": "python3"
  },
  "language_info": {
   "codemirror_mode": {
    "name": "ipython",
    "version": 3
   },
   "file_extension": ".py",
   "mimetype": "text/x-python",
   "name": "python",
   "nbconvert_exporter": "python",
   "pygments_lexer": "ipython3",
   "version": "3.6.8"
  }
 },
 "nbformat": 4,
 "nbformat_minor": 2
}
