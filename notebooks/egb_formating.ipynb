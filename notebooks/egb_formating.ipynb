{
 "cells": [
  {
   "cell_type": "code",
   "execution_count": 1,
   "metadata": {},
   "outputs": [],
   "source": [
    "import requests\n",
    "from bs4 import BeautifulSoup\n",
    "import pandas as pd"
   ]
  },
  {
   "cell_type": "code",
   "execution_count": null,
   "metadata": {},
   "outputs": [],
   "source": []
  },
  {
   "cell_type": "code",
   "execution_count": 3,
   "metadata": {},
   "outputs": [],
   "source": [
    "URL = 'https://egb.com/play/simple_bets'\n",
    "soup = BeautifulSoup(requests.get(URL).content, 'html.parser')"
   ]
  },
  {
   "cell_type": "code",
   "execution_count": 6,
   "metadata": {},
   "outputs": [
    {
     "data": {
      "text/plain": [
       "[]"
      ]
     },
     "execution_count": 6,
     "metadata": {},
     "output_type": "execute_result"
    }
   ],
   "source": [
    "# for data in soup.html.body:\n",
    "#     print(data)\n",
    "#     print(20*'-')  table-bets table-bets--full table-bets--compact\n",
    "soup.findAll(\"div\", {\"class\": \"table-bets table-bets--full\"})"
   ]
  },
  {
   "cell_type": "code",
   "execution_count": 7,
   "metadata": {},
   "outputs": [],
   "source": [
    "from selenium import webdriver\n",
    "driver = webdriver.Chrome(executable_path='/usr/local/bin/chromedriver') #executable_path=yourdriver\n",
    "driver.get(URL)\n",
    "html = driver.page_source"
   ]
  },
  {
   "cell_type": "code",
   "execution_count": 8,
   "metadata": {},
   "outputs": [],
   "source": [
    "driver.execute_script(\"window.scrollTo(0, document.body.scrollHeight);\")"
   ]
  },
  {
   "cell_type": "code",
   "execution_count": 16,
   "metadata": {},
   "outputs": [],
   "source": [
    "table = driver.find_elements_by_class_name('table-bets')\n",
    "table = table[0].text"
   ]
  },
  {
   "cell_type": "code",
   "execution_count": 17,
   "metadata": {},
   "outputs": [],
   "source": [
    "soup = BeautifulSoup(table, 'html.parser')"
   ]
  },
  {
   "cell_type": "code",
   "execution_count": 19,
   "metadata": {},
   "outputs": [
    {
     "data": {
      "text/plain": [
       "\"DATE (UTC)\\nEVENT\\nPLAYER\\nODDS\\nPLAYER\\nODDS\\n23.06\\n11:00\\nLPL\\nRoyal Never Give Up\\n1.638\\nFunPlus Phoenix\\n2.106\\n23.06\\n10:00\\nEpicenter\\nOG\\n1.717\\nTNC Predator\\n2.101\\n23.06\\n10:00\\nEpicenter\\nPSG.LGD\\n1.480\\nNinjas in Pyjamas\\n2.552\\n23.06\\n10:00\\nEpicenter\\nVici Gaming\\n1.075\\nForward Gaming\\n4.997\\n23.06\\n10:00\\nEpicenter\\nVirtus.pro\\n1.147\\nAlliance\\n4.000\\n23.06\\n08:00\\nLCK\\nAfreeca Freecs\\n1.329\\nGen.G\\n2.833\\n22.06\\n19:00\\nCBLOL\\nRedemption POA\\n1.318\\nUppercut esports\\n2.877\\n22.06\\n18:00\\nCBLOL\\npaiN Gaming\\n1.726\\nINTZ\\n1.993\\n22.06\\n17:00\\nCBLOL\\nKaBuM!\\n1.075\\nCNB\\n5.000\\n22.06\\n16:00\\nCBLOL\\nFlamengo\\n1.075\\nTeam oNe\\n5.000\\n22.06\\n10:00\\nEpicenter\\nTeam Liquid\\n1.559\\nGambit Esports\\n2.365\\n22.06\\n10:00\\nEpicenter\\nEvil Geniuses\\n1.055\\nInFamous\\n6.800\\n22.06\\n10:00\\nEpicenter\\nEpicenter (picks + bans)\\nEpicenter (picks + bans)\\n22.06\\n10:00\\nEpicenter\\nRoyal Never Give Up\\n1.902\\nFnatic\\n1.813\\n22.06\\n10:00\\nEpicenter\\nTeam Secret\\npaiN Gaming\\n10.196\\n22.06\\n09:00\\nLPL\\nJD Gaming\\n1.207\\nVici Gaming\\n3.476\\n22.06\\n08:00\\nLCK\\nGriffin\\n1.200\\nSK Telecom T1\\n3.530\\n21.06\\n20:00\\nLEC\\nVitality\\n1.395\\nexceL\\n2.710\\n21.06\\n19:00\\nLEC\\nSplyce\\n1.408\\nRogue\\n2.667\\n21.06\\n18:00\\nLEC\\nG2\\n1.396\\nFnatic\\n2.706\\n21.06\\n17:00\\nLEC\\nMisfits\\n1.539\\nSK\\n2.335\\n21.06\\n16:00\\nLEC\\nOrigen\\n1.344\\nFC Schalke 04\\n2.896\\n21.06\\n15:00\\nTCL\\nAURORA\\n1.366\\nBursaspor\\n2.700\\n21.06\\n14:00\\nTCL\\nFenerbahce\\n1.075\\nİstanbul Wild Cats\\n5.000\\n21.06\\n13:00\\nTCL\\nSuperMassive\\n1.075\\nBeşiktaş\\n5.000\\n21.06\\n12:00\\nTCL\\nGalatasaray\\n1.075\\nGalakticos\\n5.000\\n21.06\\n11:00\\nLMS\\nMAD Team\\n1.229\\nAlpha\\n3.333\\n21.06\\n11:00\\nLCK\\nKingzone DragonX\\n1.229\\nDAMWON\\n3.333\\n21.06\\n11:00\\nTCL\\nRoyal Youth\\n1.341\\nDark Passage\\n2.789\\n21.06\\n11:00\\nLPL\\nEdward Gaming\\n1.029\\nWorld Elite\\n6.098\\n21.06\\n10:55\\nUCC Cup\\nAristocracy\\n1.357\\nChaos\\n2.730\\n21.06\\n09:00\\nLPL\\nLNG\\n1.290\\nBilibili Gaming\\n3.000\\n21.06\\n09:00\\nOPL\\nBombers\\n1.247\\nGravitas\\n3.220\\n21.06\\n08:00\\nOPL\\nChiefs Esports Club\\n1.147\\nLegacy\\n4.000\\n21.06\\n08:00\\nLCK\\nAfreeca Freecs\\n1.770\\nSANDBOX Gaming\\n1.989\\n21.06\\n08:00\\nLMS\\nahq\\n1.506\\nG-Rex\\n2.332\\n21.06\\n07:00\\nOPL\\nMAMMOTH\\n1.270\\nORDER\\n3.100\\n21.06\\n06:00\\nOPL\\nAvant Gaming\\n1.381\\nDire Wolves\\n2.650\\n21.06\\n04:15\\nOWL\\nShanghai Dragons\\n1.147\\nLA Valiant\\n4.000\\n21.06\\n02:30\\nOWL\\nHangzhou Spark\\n1.075\\nDallas Fuel\\n5.000\\n21.06\\n02:00\\nESEA NA\\nSingularity\\n1.288\\nATK\\n3.008\\n21.06\\n01:00\\nNA Academy\\nTSM Academy\\n1.350\\nOpTic Academy\\n2.754\\n21.06\\n00:45\\nOWL\\nHouston Outlaws\\n1.290\\nParis Eternal\\n3.000\\n21.06\\n00:00\\nNA Academy\\nCLG Academy\\n1.522\\nFlyQuest Academy\\n2.300\\n20.06\\n23:30\\nESEA NA\\nFURIA\\n1.074\\nParty Astronauts\\n5.013\\n20.06\\n23:00\\nOWL\\nSF Shock\\n1.010\\nBoston Uprising\\n7.000\\n20.06\\n23:00\\nNA Academy\\nCloud9 Academy\\n1.197\\n100 Thieves Academy\\n3.552\\n20.06\\n22:30\\nLPG\\nUnknown 3.0\\n1.564\\nVicious Gaming\\n2.222\\n20.06\\n22:00\\nNA Academy\\nLiquid Academy\\n1.366\\nGolden Guardians Academy\\n2.700\\n20.06\\n20:00\\nLPG\\nThunder Predator\\n1.503\\nUnknown\\n2.337\\n20.06\\n20:00\\nContenders\\nBritish Hurricane\\n1.299\\nSamsung MS\\n2.960\\n20.06\\n20:00\\nSMB\\nNordavind\\n1.622\\ncats\\n2.129\\n20.06\\n19:00\\nWINNERS\\nNemiga\\n1.191\\nSmoke Criminals\\n3.597\\n20.06\\n19:00\\nESEA\\nSprout\\n1.330\\nMovistar Riders\\n2.828\\n20.06\\n18:55\\nUCC Cup\\nAVANGAR\\n1.320\\nx-kom\\n2.868\\nLive!\\nPELC Finals\\nPlacement leader on map 3\\nPlacement leader on map 3\\n20.06\\n18:15\\nQlash SC2\\nNerchio\\n1.664\\nHellraiser\\n2.070\\nLive!\\nESL\\nmousesports\\n1.282\\nFaZe\\n3.036\\n20.06\\n18:07\\nContenders\\nTeam Gigantti\\n1.237\\nShu's Money Crew\\n3.282\\n20.06\\n18:00\\nTCL Academy\\nSuperMassive Academy\\n1.155\\nBursaspor Academy\\n3.917\\nLive!\\nPELC Finals\\nPlacement leader on map 2\\nPlacement leader on map 2\\n20.06\\n17:46\\nSPL\\nPittsburgh Knights\\n1.349\\nSplyce\\n2.760\\nLive!\\nESEA\\nVitality\\n1.010\\nSpirit\\n8.800\\nLive!\\nESL\\nLiquid\\n1.066\\nMIBR\\n5.172\\nLive!\\nPELC Finals\\nPlacement leader on map 1\\nPlacement leader on map 1\\n20.06\\n17:03\\nESL\\nmousesports\\n1.638\\nFaZe\\n2.161\\n20.06\\n17:00\\nQlash SC2\\nElazer\\n1.557\\nPtitDrogo\\n2.233\\n20.06\\n17:00\\nQlash SC2\\nHarstem\\n1.512\\nHellraiser\\n2.319\\n20.06\\n17:00\\nTCL Academy\\nRoyal Youth Academy\\n2.594\\nBeşiktaş Academy\\n1.400\\n20.06\\n16:30\\nESEA\\nVitality\\n1.151\\nSpirit\\n3.957\\n20.06\\n16:19\\nESL\\nLiquid\\n1.473\\nMIBR\\n2.483\\n20.06\\n16:01\\nPOWER Ligaen\\nSTEPxHYDR\\n1.322\\nImmuNe\\n2.862\\n20.06\\n16:00\\nPOWER Ligaen\\nCopenhagen Flames\\n1.146\\nAGF\\n4.003\\n20.06\\n16:00\\nTCL Academy\\nFenerbahçe Academy\\n1.071\\nGalatasaray Academy\\n5.085\\nLive!\\nGameAgents\\nx-kom\\n2.943\\nAncient\\n1.303\\n20.06\\n15:00\\nGameAgents\\nx-kom\\n1.888\\nAncient\\n1.828\\n20.06\\n15:00\\nSPL\\nRenegades\\n1.177\\nSpaceStation Gaming\\n3.717\\n20.06\\n15:00\\nTCL Academy\\nAURORA Academy\\n1.484\\nGalakticos Academy\\n2.378\\nLive!\\nESL\\nG2\\n1.111\\nHeroic\\n4.427\\nLive!\\nESL\\nAstralis\\n1.499\\nNRG\\n2.345\\n20.06\\n14:00\\nR6PL JP\\nFAV gaming\\nUSG\\n20.06\\n14:00\\nTCL Academy\\nDark Passage Academy\\n1.736\\nIWC Academy\\n1.982\\n20.06\\n13:59\\nESL\\nG2\\n1.600\\nHeroic\\n2.222\\nLive!\\nKalashnikov CUP\\nforZe\\n1.092\\nVirtus.pro\\n4.703\\n20.06\\n13:36\\nESL\\nAstralis\\n1.067\\nNRG\\n5.708\\n20.06\\n13:00\\nR6PL SEA\\nVenberg\\nMBT Impetus\\n20.06\\n13:00\\nKalashnikov CUP\\nforZe\\n1.336\\nVirtus.pro\\n2.807\\n20.06\\n12:00\\nR6PL JP\\nFather's Back\\nGUTS gaming\\nLive!\\nLCK\\nGen.G\\n1.147\\nHanwha Life\\n4.001\\n20.06\\n11:23\\nR6PL ANZ\\nOddity Esports\\nTBA\\nLive!\\nESL\\nLiquid\\n1.010\\nHellRaisers\\n7.348\\n20.06\\n11:00\\nR6PL SEA\\nScrypt\\nVoid\\n20.06\\n11:00\\nLCK\\nGen.G\\n1.725\\nHanwha Life\\n2.041\\nLive!\\nESL\\nMIBR\\n1.502\\nNorth\\n2.340\\n20.06\\n10:45\\nSEA Fire\\nMaple\\n1.398\\nArkAngel\\n2.600\\n20.06\\n10:29\\nWCG CN\\nTeam Sirius\\n1.061\\nCYNB\\n5.275\\n20.06\\n10:29\\nWCG CN\\nTeam EVER\\n2.266\\nProud Trooper\\n1.539\\n20.06\\n10:29\\nWCG CN\\nNewBee\\n1.062\\nVTi-Gaming.Y\\n5.254\\n20.06\\n10:29\\nWCG CN\\nCDEC\\n1.370\\nRevenge Gaming\\n2.686\\n20.06\\n10:00\\nESL\\nLiquid\\n1.031\\nHellRaisers\\n6.832\\n20.06\\n10:00\\nESL\\nMIBR\\n2.250\\nNorth\\n1.584\\nLive!\\nZBT Inv\\nKeen Gaming.L\\nVampire Gaming\\n20.06\\n09:21\\nWCG CN\\nCYNB\\n1.698\\nVTi-Gaming.Y\\n2.026\\n20.06\\n09:21\\nWCG CN\\nTeam EVER\\n2.226\\nRevenge Gaming\\n1.561\\n20.06\\n09:21\\nWCG CN\\nTeam Sirius\\n2.188\\nNewBee\\n1.584\\n20.06\\n09:21\\nWCG CN\\nCDEC\\n1.238\\nProud Trooper\\n3.274\\n20.06\\n09:20\\nZBT Inv\\nFor The Dream\\nDestiny\\n20.06\\n09:20\\nZBT Inv\\nKeen Gaming.L\\nVampire Gaming\\nLive!\\nZBT Inv\\nFor The Dream\\nDestiny\\n20.06\\n09:00\\nR6PL ANZ\\nMindfreak\\nFURY\\n20.06\\n09:00\\nVCS\\nEVOS Esports\\n1.074\\nFTV Esports\\n5.015\\n20.06\\n09:00\\nLDL\\nSDX\\n1.730\\nSuning-S\\n1.989\\n20.06\\n09:00\\nLDL\\nJoy Dream\\n1.449\\n87\\n2.459\\nLive!\\nLCK\\nGriffin\\n1.010\\nKT Rolster\\n7.354\\n20.06\\n08:12\\nWCG CN\\nTeam Sirius\\n1.257\\nTeam EVER\\n3.167\\n20.06\\n08:03\\nWCG CN\\nProud Trooper\\n1.337\\nVTi-Gaming.Y\\n2.802\\n20.06\\n08:03\\nWCG CN\\nNewBee\\n1.256\\nRevenge Gaming\\n3.173\\n20.06\\n08:03\\nWCG CN\\nCDEC\\n1.100\\nCYNB\\n4.579\\n20.06\\n08:00\\nLCK\\nGriffin\\n1.081\\nKT Rolster\\n5.378\\n20.06\\n07:09\\nZBT Inv\\nKeen Gaming.L\\nAster.Aquarius\\n20.06\\n07:04\\nWCG CN\\nTeam Sirius\\n1.075\\nVTi-Gaming.Y\\n5.000\\n20.06\\n07:04\\nWCG CN\\nProud Trooper\\n2.330\\nRevenge Gaming\\n1.507\\n20.06\\n07:04\\nWCG CN\\nNewBee\\n1.073\\nCYNB\\n5.044\\n20.06\\n07:04\\nZBT Inv\\nTeam Aster\\nDestiny\\n20.06\\n07:04\\nWCG CN\\nCDEC\\n1.243\\nTeam EVER\\n3.243\\n20.06\\n07:00\\nLDL\\nEDward Gaming Youth\\n1.531\\nVictorious Gaming\\n2.281\\n20.06\\n07:00\\nLDL\\nScorpio Game\\n1.831\\nDominus Esports.Y\\n1.886\\nLive!\\nZBT Inv\\nTeam Aster\\nDestiny\\nLive!\\nZBT Inv\\nKeen Gaming.L\\nAster.Aquarius\\n20.06\\n06:15\\nSEA Fire\\nArkAngel\\n1.800\\nAOES\\n1.915\\n20.06\\n05:12\\nWCG CN\\nRevenge Gaming\\n1.147\\nCYNB\\n4.000\\n20.06\\n05:12\\nWCG CN\\nTeam EVER\\n1.139\\nVTi-Gaming.Y\\n4.077\\n20.06\\n05:12\\nWCG CN\\nNewBee\\n1.175\\nProud Trooper\\n3.729\\n20.06\\n05:12\\nWCG CN\\nTeam Sirius\\n1.670\\nCDEC\\n2.062\\nLive!\\nZBT Inv\\nInvictus Gaming\\nAster.Aquarius\\nLive!\\nZBT Inv\\nTeam Aster\\niG.Vitality\\n20.06\\n05:00\\nZBT Inv\\nInvictus Gaming\\nAster.Aquarius\\n20.06\\n05:00\\nZBT Inv\\nTeam Aster\\niG Vitality\\n20.06\\n05:00\\nLDL\\nTS Gaming\\n2.514\\nBilibili Gaming Junior\\n1.428\\n20.06\\n05:00\\nLDL\\nRoyal Club\\n1.280\\nGama Dream\\n3.050\\n20.06\\n04:22\\nWCG CN\\nProud Trooper\\n1.616\\nCYNB\\n2.137\\n20.06\\n04:22\\nWCG CN\\nCDEC\\n1.125\\nVTi-Gaming.Y\\n4.244\\n20.06\\n04:21\\nWCG CN\\nTeam Sirius\\n1.262\\nRevenge Gaming\\n3.137\\n20.06\\n04:17\\nWCG CN\\nNewBee\\n1.282\\nTeam EVER\\n3.038\\nLive!\\nWCG CN\\nNewBee\\n2.089\\nCDEC\\n1.650\\n20.06\\n03:44\\nR6PL\\nDarkZero Esports\\n1.241\\n92 Dream Team\\n3.255\\n20.06\\n03:15\\nWCG CN\\nRevenge Gaming\\n1.293\\nVTi-Gaming.Y\\n2.985\\n20.06\\n03:15\\nWCG CN\\nTeam EVER\\n1.204\\nCYNB\\n3.499\\n20.06\\n03:15\\nWCG CN\\nTeam Sirius\\n1.161\\nProud Trooper\\n3.860\\n20.06\\n03:15\\nWCG CN\\nNewBee\\n1.460\\nCDEC\\n2.433\\n20.06\\n02:42\\nContenders\\nUprising Academy\\n2.158\\nChicken Contendies\\n1.603\""
      ]
     },
     "execution_count": 19,
     "metadata": {},
     "output_type": "execute_result"
    }
   ],
   "source": [
    "soup.text"
   ]
  },
  {
   "cell_type": "code",
   "execution_count": 157,
   "metadata": {},
   "outputs": [],
   "source": [
    "def is_number(s):\n",
    "    try:\n",
    "        float(s)\n",
    "        return True\n",
    "    except ValueError:\n",
    "        return False\n",
    "\n",
    "def remove_header(html, cutoff='RESULTS', separator='\\n', padding_token='_PADDING_'):\n",
    "    tokenized_html = html.split(separator)\n",
    "    for idx, token in enumerate(tokenized_html):\n",
    "        if token == cutoff:\n",
    "            break\n",
    "    headless_html = padding_token.join(tokenized_html[idx+1:])\n",
    "    return headless_html\n",
    "    \n",
    "def insert_row_breaks(html, separator='_PADDING_', row_break_token='_ROW_BREAK_', padding_token='_PADDING_'):\n",
    "    tokenized_html = html.split(separator)\n",
    "    num_tokens = len(tokenized_html)\n",
    "    insert = False\n",
    "    processed_html = [tokenized_html[0]]\n",
    "    for idx in range(1, num_tokens):        \n",
    "        if insert and not is_number(tokenized_html[idx]):\n",
    "            insert = False\n",
    "            processed_html.append(row_break_token)\n",
    "        elif tokenized_html[idx - 1] == 'Over' and tokenized_html[idx] == 'Under':\n",
    "            insert = True\n",
    "            continue\n",
    "        processed_html.append(tokenized_html[idx])\n",
    "    processed_html = padding_token.join(processed_html)\n",
    "    return processed_html\n",
    "\n",
    "def idx_search(l, s):\n",
    "    for idx, token in enumerate(l):\n",
    "        if s in token:\n",
    "            break\n",
    "    return idx\n",
    "\n",
    "def encode_row(row, separator='_PADDING_', stopwords={'_', 'LIVE', '', '-'}):\n",
    "    # TODO: NA is previous tournament, means no colkumn headers\n",
    "    \n",
    "    result = {}\n",
    "    row = row.split(separator)\n",
    "    \n",
    "    time_idx = idx_search(row, ':')\n",
    "            \n",
    "    # tournament name\n",
    "    if len(set(row[:time_idx]) - stopwords) == 1:\n",
    "        result['tournament_name'] = (set(row[:time_idx]) - stopwords).pop()\n",
    "    elif len(set(row[:time_idx]) - stopwords) > 1:\n",
    "        print(set(row[:time_idx]) - stopwords)\n",
    "        result['tournament_name'] = 'NA'\n",
    "    else:\n",
    "        result['tournament_name'] = 'NA'\n",
    "    \n",
    "    # time and date\n",
    "    result['time'] = row[time_idx]\n",
    "    result['date'] = row[time_idx + 1]\n",
    "    \n",
    "    row = row[time_idx + 2:]\n",
    "    winner_idx = idx_search(row, 'WINNER')\n",
    "    if 'Total' in row[:winner_idx]:  # bad fit -> correct\n",
    "        contestants = []\n",
    "        for winner_idx, token in enumerate(row):\n",
    "            if is_number(token):\n",
    "                winner_idx += 1\n",
    "                break\n",
    "            contestants.append(token)\n",
    "        result['contestants'] = contestants\n",
    "    else:  \n",
    "        result['contestants'] = row[:winner_idx]\n",
    "    \n",
    "    row = row[winner_idx+1:]\n",
    "    \n",
    "    # winner odds\n",
    "    result['winner_odds'] = row[:2]\n",
    "    \n",
    "    row = row[2:]\n",
    "    \n",
    "    # round handicap\n",
    "    result['handicap_type'] = row[0]\n",
    "    result['handicap_odds'] = row[1:5]\n",
    "    \n",
    "    row = row[5:]\n",
    "    \n",
    "    # map bet\n",
    "    result['map_type'] = row[0]\n",
    "    result['map_total'] = row[3]\n",
    "    result['map_over_odds'] = row[4]\n",
    "    result['map_under_odds'] = row[5]\n",
    "\n",
    "    row = row[6:]\n",
    "    \n",
    "    print(row)\n",
    "    \n",
    "    return result"
   ]
  },
  {
   "cell_type": "code",
   "execution_count": 161,
   "metadata": {},
   "outputs": [
    {
     "name": "stdout",
     "output_type": "stream",
     "text": [
      "['19', '']\n",
      "{'tournament_name': 'GG.BET COLOGNE INVITATIONAL', 'time': '05:00', 'date': 'JUN 13', 'contestants': ['Sprout', 'X', 'NoChance'], 'winner_odds': ['1.6', '2.23'], 'handicap_type': '1ST MAP - ROUND HANDICAP (INCL. OVERTIME)', 'handicap_odds': ['-3.5', '2.1', '+3.5', '1.67'], 'map_type': '1ST MAP - TOTAL ROUNDS (INCL. OVERTIME)', 'map_total': '26.5', 'map_over_odds': '1.9', 'map_under_odds': '1.83'}\n",
      "['19', '']\n",
      "{'tournament_name': 'GAMEAGENTS LEAGUE SEASON 3', 'time': '05:00', 'date': 'JUN 13', 'contestants': ['Nemiga', 'X', 'Nordavind'], 'winner_odds': ['1.98', '1.76'], 'handicap_type': '1ST MAP - ROUND HANDICAP (INCL. OVERTIME)', 'handicap_odds': ['+3.5', '1.54', '-3.5', '2.35'], 'map_type': '1ST MAP - TOTAL ROUNDS (INCL. OVERTIME)', 'map_total': '26.5', 'map_over_odds': '1.88', 'map_under_odds': '1.85'}\n",
      "['45', '']\n",
      "{'tournament_name': 'LOOT.BET SMACK MY BEACH CIS QUALIFIER', 'time': '06:00', 'date': 'JUN 13', 'contestants': ['Syman', 'X', 'NONAME'], 'winner_odds': ['1.1', '6.19'], 'handicap_type': 'MAP HANDICAP', 'handicap_odds': ['-1.5', '1.42', '+1.5', '2.71'], 'map_type': 'TOTAL MAPS', 'map_total': '2.5', 'map_over_odds': '2.98', 'map_under_odds': '1.36'}\n",
      "['19', '']\n",
      "{'tournament_name': 'GG.BET COLOGNE INVITATIONAL', 'time': '06:15', 'date': 'JUN 13', 'contestants': ['Liquid', 'X', 'Spirit'], 'winner_odds': ['1.12', '5.61'], 'handicap_type': '1ST MAP - ROUND HANDICAP (INCL. OVERTIME)', 'handicap_odds': ['-7.5', '1.92', '+7.5', '1.81'], 'map_type': '1ST MAP - TOTAL ROUNDS (INCL. OVERTIME)', 'map_total': '24.5', 'map_over_odds': '1.9', 'map_under_odds': '1.83'}\n",
      "['19', '']\n",
      "{'tournament_name': 'ESEA MDL SEASON 31 EUROPE', 'time': '07:00', 'date': 'JUN 13', 'contestants': ['Chaos', 'X', 'forZe'], 'winner_odds': ['2.07', '1.69'], 'handicap_type': '1ST MAP - ROUND HANDICAP (INCL. OVERTIME)', 'handicap_odds': ['+3.5', '1.59', '-3.5', '2.25'], 'map_type': '1ST MAP - TOTAL ROUNDS (INCL. OVERTIME)', 'map_total': '26.5', 'map_over_odds': '1.88', 'map_under_odds': '1.84'}\n"
     ]
    },
    {
     "ename": "IndexError",
     "evalue": "list index out of range",
     "output_type": "error",
     "traceback": [
      "\u001b[0;31m-------------------------------------------------------------------\u001b[0m",
      "\u001b[0;31mIndexError\u001b[0m                        Traceback (most recent call last)",
      "\u001b[0;32m<ipython-input-161-7d886a853f47>\u001b[0m in \u001b[0;36m<module>\u001b[0;34m\u001b[0m\n\u001b[1;32m      3\u001b[0m \u001b[0mrows\u001b[0m \u001b[0;34m=\u001b[0m \u001b[0mtext\u001b[0m\u001b[0;34m.\u001b[0m\u001b[0msplit\u001b[0m\u001b[0;34m(\u001b[0m\u001b[0;34m'_ROW_BREAK_'\u001b[0m\u001b[0;34m)\u001b[0m\u001b[0;34m\u001b[0m\u001b[0;34m\u001b[0m\u001b[0m\n\u001b[1;32m      4\u001b[0m \u001b[0;32mfor\u001b[0m \u001b[0mrow\u001b[0m \u001b[0;32min\u001b[0m \u001b[0mrows\u001b[0m\u001b[0;34m:\u001b[0m\u001b[0;34m\u001b[0m\u001b[0;34m\u001b[0m\u001b[0m\n\u001b[0;32m----> 5\u001b[0;31m     \u001b[0mresult\u001b[0m \u001b[0;34m=\u001b[0m \u001b[0mencode_row\u001b[0m\u001b[0;34m(\u001b[0m\u001b[0mrow\u001b[0m\u001b[0;34m)\u001b[0m\u001b[0;34m\u001b[0m\u001b[0;34m\u001b[0m\u001b[0m\n\u001b[0m\u001b[1;32m      6\u001b[0m     \u001b[0mprint\u001b[0m\u001b[0;34m(\u001b[0m\u001b[0mresult\u001b[0m\u001b[0;34m)\u001b[0m\u001b[0;34m\u001b[0m\u001b[0;34m\u001b[0m\u001b[0m\n\u001b[1;32m      7\u001b[0m \u001b[0;31m#     break\u001b[0m\u001b[0;34m\u001b[0m\u001b[0;34m\u001b[0m\u001b[0;34m\u001b[0m\u001b[0m\n",
      "\u001b[0;32m<ipython-input-157-962ef38973ad>\u001b[0m in \u001b[0;36mencode_row\u001b[0;34m(row, separator, stopwords)\u001b[0m\n\u001b[1;32m     86\u001b[0m     \u001b[0mresult\u001b[0m\u001b[0;34m[\u001b[0m\u001b[0;34m'map_type'\u001b[0m\u001b[0;34m]\u001b[0m \u001b[0;34m=\u001b[0m \u001b[0mrow\u001b[0m\u001b[0;34m[\u001b[0m\u001b[0;36m0\u001b[0m\u001b[0;34m]\u001b[0m\u001b[0;34m\u001b[0m\u001b[0;34m\u001b[0m\u001b[0m\n\u001b[1;32m     87\u001b[0m     \u001b[0mresult\u001b[0m\u001b[0;34m[\u001b[0m\u001b[0;34m'map_total'\u001b[0m\u001b[0;34m]\u001b[0m \u001b[0;34m=\u001b[0m \u001b[0mrow\u001b[0m\u001b[0;34m[\u001b[0m\u001b[0;36m3\u001b[0m\u001b[0;34m]\u001b[0m\u001b[0;34m\u001b[0m\u001b[0;34m\u001b[0m\u001b[0m\n\u001b[0;32m---> 88\u001b[0;31m     \u001b[0mresult\u001b[0m\u001b[0;34m[\u001b[0m\u001b[0;34m'map_over_odds'\u001b[0m\u001b[0;34m]\u001b[0m \u001b[0;34m=\u001b[0m \u001b[0mrow\u001b[0m\u001b[0;34m[\u001b[0m\u001b[0;36m4\u001b[0m\u001b[0;34m]\u001b[0m\u001b[0;34m\u001b[0m\u001b[0;34m\u001b[0m\u001b[0m\n\u001b[0m\u001b[1;32m     89\u001b[0m     \u001b[0mresult\u001b[0m\u001b[0;34m[\u001b[0m\u001b[0;34m'map_under_odds'\u001b[0m\u001b[0;34m]\u001b[0m \u001b[0;34m=\u001b[0m \u001b[0mrow\u001b[0m\u001b[0;34m[\u001b[0m\u001b[0;36m5\u001b[0m\u001b[0;34m]\u001b[0m\u001b[0;34m\u001b[0m\u001b[0;34m\u001b[0m\u001b[0m\n\u001b[1;32m     90\u001b[0m \u001b[0;34m\u001b[0m\u001b[0m\n",
      "\u001b[0;31mIndexError\u001b[0m: list index out of range"
     ]
    }
   ],
   "source": [
    "text = remove_header(soup.text)\n",
    "text = insert_row_breaks(text)\n",
    "rows = text.split('_ROW_BREAK_')\n",
    "for row in rows:\n",
    "    result = encode_row(row)\n",
    "    print(result)\n",
    "#     break"
   ]
  },
  {
   "cell_type": "code",
   "execution_count": 162,
   "metadata": {},
   "outputs": [
    {
     "data": {
      "text/plain": [
       "'_PADDING_LIVE_PADDING_07:00_PADDING_JUN 13_PADDING_AGO_PADDING_X_PADDING_ALTERNATE aTTaX_PADDING_1.59_PADDING_2.25_PADDING_-3.5_PADDING_2.09_PADDING_+3.5_PADDING_1.68_PADDING_Total_PADDING_Over_PADDING_26.5_PADDING_1.9_PADDING_1.83_PADDING_19_PADDING_'"
      ]
     },
     "execution_count": 162,
     "metadata": {},
     "output_type": "execute_result"
    }
   ],
   "source": [
    "row"
   ]
  },
  {
   "cell_type": "code",
   "execution_count": 160,
   "metadata": {},
   "outputs": [
    {
     "data": {
      "text/plain": [
       "36"
      ]
     },
     "execution_count": 160,
     "metadata": {},
     "output_type": "execute_result"
    }
   ],
   "source": [
    "len(rows)"
   ]
  },
  {
   "cell_type": "code",
   "execution_count": 156,
   "metadata": {},
   "outputs": [
    {
     "data": {
      "text/plain": [
       "\"GG.BET COLOGNE INVITATIONAL_PADDING_LIVE_PADDING_05:00_PADDING_JUN 13_PADDING_Sprout_PADDING_X_PADDING_NoChance_PADDING_WINNER_PADDING_1.6_PADDING_2.23_PADDING_1ST MAP - ROUND HANDICAP (INCL. OVERTIME)_PADDING_-3.5_PADDING_2.1_PADDING_+3.5_PADDING_1.67_PADDING_1ST MAP - TOTAL ROUNDS (INCL. OVERTIME)_PADDING_Total_PADDING_Over_PADDING_26.5_PADDING_1.9_PADDING_1.83_PADDING_19_PADDING__ROW_BREAK__PADDING_GAMEAGENTS LEAGUE SEASON 3_PADDING_LIVE_PADDING_05:00_PADDING_JUN 13_PADDING_Nemiga_PADDING_X_PADDING_Nordavind_PADDING_WINNER_PADDING_1.98_PADDING_1.76_PADDING_1ST MAP - ROUND HANDICAP (INCL. OVERTIME)_PADDING_+3.5_PADDING_1.54_PADDING_-3.5_PADDING_2.35_PADDING_1ST MAP - TOTAL ROUNDS (INCL. OVERTIME)_PADDING_Total_PADDING_Over_PADDING_26.5_PADDING_1.88_PADDING_1.85_PADDING_19_PADDING__ROW_BREAK__PADDING_LOOT.BET SMACK MY BEACH CIS QUALIFIER_PADDING_LIVE_PADDING_06:00_PADDING_JUN 13_PADDING_Syman_PADDING_X_PADDING_NONAME_PADDING_WINNER_PADDING_1.1_PADDING_6.19_PADDING_MAP HANDICAP_PADDING_-1.5_PADDING_1.42_PADDING_+1.5_PADDING_2.71_PADDING_TOTAL MAPS_PADDING_Total_PADDING_Over_PADDING_2.5_PADDING_2.98_PADDING_1.36_PADDING_45_PADDING__ROW_BREAK__PADDING_GG.BET COLOGNE INVITATIONAL_PADDING_LIVE_PADDING_06:15_PADDING_JUN 13_PADDING_Liquid_PADDING_X_PADDING_Spirit_PADDING_WINNER_PADDING_1.12_PADDING_5.61_PADDING_1ST MAP - ROUND HANDICAP (INCL. OVERTIME)_PADDING_-7.5_PADDING_1.92_PADDING_+7.5_PADDING_1.81_PADDING_1ST MAP - TOTAL ROUNDS (INCL. OVERTIME)_PADDING_Total_PADDING_Over_PADDING_24.5_PADDING_1.9_PADDING_1.83_PADDING_19_PADDING__ROW_BREAK__PADDING_ESEA MDL SEASON 31 EUROPE_PADDING_LIVE_PADDING_07:00_PADDING_JUN 13_PADDING_Chaos_PADDING_X_PADDING_forZe_PADDING_WINNER_PADDING_2.07_PADDING_1.69_PADDING_1ST MAP - ROUND HANDICAP (INCL. OVERTIME)_PADDING_+3.5_PADDING_1.59_PADDING_-3.5_PADDING_2.25_PADDING_1ST MAP - TOTAL ROUNDS (INCL. OVERTIME)_PADDING_Total_PADDING_Over_PADDING_26.5_PADDING_1.88_PADDING_1.84_PADDING_19_PADDING__ROW_BREAK__PADDING_LIVE_PADDING_07:00_PADDING_JUN 13_PADDING_AGO_PADDING_X_PADDING_ALTERNATE aTTaX_PADDING_1.59_PADDING_2.25_PADDING_-3.5_PADDING_2.09_PADDING_+3.5_PADDING_1.68_PADDING_Total_PADDING_Over_PADDING_26.5_PADDING_1.9_PADDING_1.83_PADDING_19_PADDING__ROW_BREAK__PADDING_WINNERS LEAGUE SEASON 2 EUROPE_PADDING_LIVE_PADDING_07:00_PADDING_JUN 13_PADDING_DreamEaters_PADDING_X_PADDING_OFFSET_PADDING_WINNER_PADDING_1.59_PADDING_2.24_PADDING_MAP HANDICAP_PADDING_-1.5_PADDING_2.63_PADDING_+1.5_PADDING_1.44_PADDING_TOTAL MAPS_PADDING_Total_PADDING_Over_PADDING_2.5_PADDING_1.91_PADDING_1.81_PADDING_45_PADDING__ROW_BREAK__PADDING_FINNISH ESPORTS LEAGUE SEASON 6_PADDING_LIVE_PADDING_08:00_PADDING_JUN 13_PADDING_HAVU_PADDING_X_PADDING_Helsinki REDS_PADDING_WINNER_PADDING_1.08_PADDING_6.44_PADDING_HANDICAP_PADDING_-_PADDING_-_PADDING_TOTAL_PADDING_Total_PADDING_Over_PADDING__ROW_BREAK__PADDING_-_PADDING_ESEA MDL SEASON 31 EUROPE_PADDING_LIVE_PADDING_08:00_PADDING_JUN 13_PADDING_CR4ZY_PADDING_X_PADDING_x-kom_PADDING_WINNER_PADDING_1.24_PADDING_3.77_PADDING_1ST MAP - ROUND HANDICAP (INCL. OVERTIME)_PADDING_-5.5_PADDING_1.87_PADDING_+5.5_PADDING_1.85_PADDING_1ST MAP - TOTAL ROUNDS (INCL. OVERTIME)_PADDING_Total_PADDING_Over_PADDING_25.5_PADDING_1.87_PADDING_1.86_PADDING_19_PADDING__ROW_BREAK__PADDING_LIVE_PADDING_09:00_PADDING_JUN 13_PADDING_CR4ZY_PADDING_X_PADDING_Vitality_PADDING_2.44_PADDING_1.51_PADDING_+3.5_PADDING_1.78_PADDING_-3.5_PADDING_1.95_PADDING_Total_PADDING_Over_PADDING_26.5_PADDING_1.93_PADDING_1.8_PADDING_19_PADDING__ROW_BREAK__PADDING_KALASHNIKOV CUP SEASON 2_PADDING_LIVE_PADDING_09:00_PADDING_JUN 13_PADDING_Nemiga_PADDING_X_PADDING_TRICKED_PADDING_WINNER_PADDING_2.12_PADDING_1.66_PADDING_MAP HANDICAP_PADDING_+1.5_PADDING_1.35_PADDING_-1.5_PADDING_2.99_PADDING_TOTAL MAPS_PADDING_Total_PADDING_Over_PADDING_2.5_PADDING_1.88_PADDING_1.85_PADDING_45_PADDING__ROW_BREAK__PADDING_ESEA MDL SEASON 31 EUROPE_PADDING_LIVE_PADDING_09:00_PADDING_JUN 13_PADDING_ALTERNATE aTTaX_PADDING_X_PADDING_pro100_PADDING_WINNER_PADDING_1.84_PADDING_1.88_PADDING_1ST MAP - ROUND HANDICAP (INCL. OVERTIME)_PADDING_-3.5_PADDING_2.49_PADDING_+3.5_PADDING_1.49_PADDING_1ST MAP - TOTAL ROUNDS (INCL. OVERTIME)_PADDING_Total_PADDING_Over_PADDING_26.5_PADDING_1.88_PADDING_1.85_PADDING_19_PADDING__ROW_BREAK__PADDING_AMERICAS MINOR NORTH AMERICA CLOSED QUALIFIER - STARLADDER MAJOR 2019_PADDING_LIVE_PADDING_09:00_PADDING_JUN 13_PADDING_Peeker's Advantage_PADDING_X_PADDING_ATK_PADDING_WINNER_PADDING_2.74_PADDING_1.41_PADDING_MAP HANDICAP_PADDING_+1.5_PADDING_1.58_PADDING_-1.5_PADDING_2.27_PADDING_TOTAL MAPS_PADDING_Total_PADDING_Over_PADDING_2.5_PADDING_2_PADDING_1.75_PADDING_45_PADDING__ROW_BREAK__PADDING_ESEA MDL SEASON 31 EUROPE_PADDING_LIVE_PADDING_09:00_PADDING_JUN 13_PADDING_Chaos_PADDING_X_PADDING_Izako Boars_PADDING_WINNER_PADDING_1.4_PADDING_2.8_PADDING_1ST MAP - ROUND HANDICAP (INCL. OVERTIME)_PADDING_-3.5_PADDING_1.77_PADDING_+3.5_PADDING_1.97_PADDING_1ST MAP - TOTAL ROUNDS (INCL. OVERTIME)_PADDING_Total_PADDING_Over_PADDING_26.5_PADDING_2_PADDING_1.74_PADDING_19_PADDING__ROW_BREAK__PADDING_AMERICAS MINOR NORTH AMERICA CLOSED QUALIFIER - STARLADDER MAJOR 2019_PADDING_LIVE_PADDING_09:00_PADDING_JUN 13_PADDING_Party Astronauts_PADDING_X_PADDING_Envy_PADDING_WINNER_PADDING_4.83_PADDING_1.15_PADDING_MAP HANDICAP_PADDING_+1.5_PADDING_2.16_PADDING_-1.5_PADDING_1.64_PADDING_TOTAL MAPS_PADDING_Total_PADDING_Over_PADDING_2.5_PADDING_2.47_PADDING_1.5_PADDING_45_PADDING__ROW_BREAK__PADDING_ESEA MDL SEASON 31 EUROPE_PADDING_LIVE_PADDING_10:00_PADDING_JUN 13_PADDING_CR4ZY_PADDING_X_PADDING_Izako Boars_PADDING_WINNER_PADDING_1.15_PADDING_5_PADDING_1ST MAP - ROUND HANDICAP (INCL. OVERTIME)_PADDING_-6.5_PADDING_1.8_PADDING_+6.5_PADDING_1.93_PADDING_1ST MAP - TOTAL ROUNDS (INCL. OVERTIME)_PADDING_Total_PADDING_Over_PADDING_24.5_PADDING_1.8_PADDING_1.93_PADDING_19_PADDING__ROW_BREAK__PADDING_LIVE_PADDING_10:00_PADDING_JUN 13_PADDING_Vitality_PADDING_X_PADDING_Movistar Riders_PADDING_1.32_PADDING_3.17_PADDING_-4.5_PADDING_1.88_PADDING_+4.5_PADDING_1.84_PADDING_Total_PADDING_Over_PADDING_25.5_PADDING_1.75_PADDING_1.99_PADDING_19_PADDING__ROW_BREAK__PADDING_ESL ONE COLOGNE 2019 EUROPE CLOSED QUALIFIER_PADDING_LIVE_PADDING_10:00_PADDING_JUN 13_PADDING_Heroic_PADDING_X_PADDING_AVANGAR_PADDING_WINNER_PADDING_2.15_PADDING_1.65_PADDING_MAP HANDICAP_PADDING_+1.5_PADDING_1.34_PADDING_-1.5_PADDING_3.06_PADDING_TOTAL MAPS_PADDING_Total_PADDING_Over_PADDING_2.5_PADDING_1.86_PADDING_1.87_PADDING_65_PADDING__ROW_BREAK__PADDING_FINNISH ESPORTS LEAGUE SEASON 6_PADDING_LIVE_PADDING_11:00_PADDING_JUN 13_PADDING_SJ_PADDING_X_PADDING_KOVA Esports_PADDING_WINNER_PADDING_1.35_PADDING_2.93_PADDING_HANDICAP_PADDING_-_PADDING_-_PADDING_TOTAL_PADDING_Total_PADDING_Over_PADDING__ROW_BREAK__PADDING_-_PADDING_ESEA MDL SEASON 31 EUROPE_PADDING_LIVE_PADDING_11:00_PADDING_JUN 13_PADDING_Vitality_PADDING_X_PADDING_x-kom_PADDING_WINNER_PADDING_1.21_PADDING_4.06_PADDING_1ST MAP - ROUND HANDICAP (INCL. OVERTIME)_PADDING_-5.5_PADDING_1.79_PADDING_+5.5_PADDING_1.94_PADDING_1ST MAP - TOTAL ROUNDS (INCL. OVERTIME)_PADDING_Total_PADDING_Over_PADDING_25.5_PADDING_1.93_PADDING_1.8_PADDING_19_PADDING__ROW_BREAK__PADDING_LIVE_PADDING_11:00_PADDING_JUN 13_PADDING_Epsilon_PADDING_X_PADDING_Izako Boars_PADDING_1.34_PADDING_3.05_PADDING_-4.5_PADDING_1.9_PADDING_+4.5_PADDING_1.82_PADDING_Total_PADDING_Over_PADDING_25.5_PADDING_1.73_PADDING_2.01_PADDING_19_PADDING__ROW_BREAK__PADDING_AMERICAS MINOR NORTH AMERICA CLOSED QUALIFIER - STARLADDER MAJOR 2019_PADDING_LIVE_PADDING_12:10_PADDING_JUN 13_PADDING_The Quest_PADDING_X_PADDING_Cloud9_PADDING_WINNER_PADDING_6.84_PADDING_1.08_PADDING_MAP HANDICAP_PADDING_+1.5_PADDING_3.02_PADDING_-1.5_PADDING_1.35_PADDING_TOTAL MAPS_PADDING_Total_PADDING_Over_PADDING_2.5_PADDING_3.27_PADDING_1.3_PADDING_45_PADDING__ROW_BREAK__PADDING_ESEA MDL SEASON 31 EUROPE_PADDING_LIVE_PADDING_13:00_PADDING_JUN 13_PADDING_expert_PADDING_X_PADDING_HAVU_PADDING_WINNER_PADDING_3.36_PADDING_1.29_PADDING_1ST MAP - ROUND HANDICAP (INCL. OVERTIME)_PADDING_+4.5_PADDING_2_PADDING_-4.5_PADDING_1.75_PADDING_1ST MAP - TOTAL ROUNDS (INCL. OVERTIME)_PADDING_Total_PADDING_Over_PADDING_25.5_PADDING_1.79_PADDING_1.94_PADDING_19_PADDING__ROW_BREAK__PADDING_LIVE_PADDING_14:00_PADDING_JUN 13_PADDING_Sprout_PADDING_X_PADDING_Epsilon_PADDING_1.44_PADDING_2.65_PADDING_-3.5_PADDING_1.84_PADDING_+3.5_PADDING_1.89_PADDING_Total_PADDING_Over_PADDING_26.5_PADDING_1.97_PADDING_1.77_PADDING_19_PADDING__ROW_BREAK__PADDING_AMERICAS MINOR NORTH AMERICA CLOSED QUALIFIER - STARLADDER MAJOR 2019_PADDING_LIVE_PADDING_15:00_PADDING_JUN 13_PADDING_FURIA_PADDING_X_PADDING_TeamOne_PADDING_WINNER_PADDING_1.07_PADDING_7.03_PADDING_MAP HANDICAP_PADDING_-1.5_PADDING_1.46_PADDING_+1.5_PADDING_2.56_PADDING_TOTAL MAPS_PADDING_Total_PADDING_Over_PADDING_2.5_PADDING_2.84_PADDING_1.39_PADDING_45_PADDING__ROW_BREAK__PADDING_LIVE_PADDING_15:00_PADDING_JUN 13_PADDING_Luminosity_PADDING_X_PADDING_Lazarus_PADDING_1.63_PADDING_2.18_PADDING_-1.5_PADDING_2.91_PADDING_+1.5_PADDING_1.37_PADDING_Total_PADDING_Over_PADDING_2.5_PADDING_1.88_PADDING_1.84_PADDING_45_PADDING__ROW_BREAK__PADDING_ESEA MDL SEASON 31 NORTH AMERICA_PADDING_LIVE_PADDING_17:00_PADDING_JUN 13_PADDING_Thunder Logic_PADDING_X_PADDING_Bushido Boyz_PADDING_WINNER_PADDING_2.05_PADDING_1.71_PADDING_1ST MAP - ROUND HANDICAP (INCL. OVERTIME)_PADDING_+3.5_PADDING_1.58_PADDING_-3.5_PADDING_2.27_PADDING_1ST MAP - TOTAL ROUNDS (INCL. OVERTIME)_PADDING_Total_PADDING_Over_PADDING_26.5_PADDING_1.88_PADDING_1.85_PADDING_19_PADDING__ROW_BREAK__PADDING_AMERICAS MINOR NORTH AMERICA CLOSED QUALIFIER - STARLADDER MAJOR 2019_PADDING_LIVE_PADDING_18:10_PADDING_JUN 13_PADDING_eUnited_PADDING_X_PADDING_New Identity_PADDING_WINNER_PADDING_1.16_PADDING_4.81_PADDING_MAP HANDICAP_PADDING_-1.5_PADDING_1.71_PADDING_+1.5_PADDING_2.04_PADDING_TOTAL MAPS_PADDING_Total_PADDING_Over_PADDING_2.5_PADDING_2.37_PADDING_1.54_PADDING_45_PADDING__ROW_BREAK__PADDING_ESEA MDL SEASON 31 NORTH AMERICA_PADDING_LIVE_PADDING_19:00_PADDING_JUN 13_PADDING_Bushido Boyz_PADDING_X_PADDING_Bad News Bears_PADDING_WINNER_PADDING_3.36_PADDING_1.29_PADDING_1ST MAP - ROUND HANDICAP (INCL. OVERTIME)_PADDING_+4.5_PADDING_1.94_PADDING_-4.5_PADDING_1.79_PADDING_1ST MAP - TOTAL ROUNDS (INCL. OVERTIME)_PADDING_Total_PADDING_Over_PADDING_25.5_PADDING_1.79_PADDING_1.94_PADDING_19_PADDING__ROW_BREAK__PADDING_LIVE_PADDING_19:00_PADDING_JUN 13_PADDING_Thunder Logic_PADDING_X_PADDING_Ascent_PADDING_2.34_PADDING_1.55_PADDING_+3.5_PADDING_1.73_PADDING_-3.5_PADDING_2.01_PADDING_Total_PADDING_Over_PADDING_26.5_PADDING_1.91_PADDING_1.81_PADDING_19_PADDING__ROW_BREAK__PADDING_GG.BET COLOGNE INVITATIONAL_PADDING_LIVE_PADDING_05:00_PADDING_JUN 14_PADDING_HellRaisers_PADDING_X_PADDING_Windigo_PADDING_WINNER_PADDING_1.45_PADDING_2.61_PADDING_1ST MAP - ROUND HANDICAP (INCL. OVERTIME)_PADDING_-3.5_PADDING_1.85_PADDING_+3.5_PADDING_1.87_PADDING_1ST MAP - TOTAL ROUNDS (INCL. OVERTIME)_PADDING_Total_PADDING_Over_PADDING_26.5_PADDING_1.96_PADDING_1.77_PADDING_19_PADDING__ROW_BREAK__PADDING_LIVE_PADDING_06:15_PADDING_JUN 14_PADDING_G2_PADDING_X_PADDING_Movistar Riders_PADDING_1.28_PADDING_3.44_PADDING_-4.5_PADDING_1.77_PADDING_+4.5_PADDING_1.97_PADDING_Total_PADDING_Over_PADDING_25.5_PADDING_1.8_PADDING_1.93_PADDING_19_PADDING__ROW_BREAK__PADDING_DREAMHACK OPEN SUMMER 2019_PADDING_03:00_PADDING_JUN 15_PADDING_AVANGAR_PADDING_X_PADDING_Winstrike_PADDING_WINNER_PADDING_1.21_PADDING_4.06_PADDING_1ST MAP - ROUND HANDICAP (INCL. OVERTIME)_PADDING_-5.5_PADDING_1.79_PADDING_+5.5_PADDING_1.94_PADDING_1ST MAP - TOTAL ROUNDS (INCL. OVERTIME)_PADDING_Total_PADDING_Over_PADDING_25.5_PADDING_1.93_PADDING_1.8_PADDING_19_PADDING__ROW_BREAK__PADDING_04:30_PADDING_JUN 15_PADDING_CR4ZY_PADDING_X_PADDING_Ancient_PADDING_1.38_PADDING_2.85_PADDING_-4.5_PADDING_1.99_PADDING_+4.5_PADDING_1.75_PADDING_Total_PADDING_Over_PADDING_26.5_PADDING_2.01_PADDING_1.74_PADDING_19_PADDING__ROW_BREAK__PADDING_06:00_PADDING_JUN 15_PADDING_TRICKED_PADDING_X_PADDING_Aristocracy_PADDING_2.41_PADDING_1.52_PADDING_+3.5_PADDING_1.77_PADDING_-3.5_PADDING_1.97_PADDING_Total_PADDING_Over_PADDING_26.5_PADDING_1.93_PADDING_1.8_PADDING_19_PADDING__ROW_BREAK__PADDING_07:30_PADDING_JUN 15_PADDING_OpTic_PADDING_X_PADDING_Chaos_PADDING_1.35_PADDING_3_PADDING_-4.5_PADDING_1.93_PADDING_+4.5_PADDING_1.8_PADDING_Total_PADDING_Over_PADDING_25.5_PADDING_1.72_PADDING_2.03_PADDING_19\""
      ]
     },
     "execution_count": 156,
     "metadata": {},
     "output_type": "execute_result"
    }
   ],
   "source": [
    "text"
   ]
  },
  {
   "cell_type": "code",
   "execution_count": 65,
   "metadata": {},
   "outputs": [
    {
     "data": {
      "text/plain": [
       "'FILTERS_PADDING_MATCH_PADDING_OF THE DAY_PADDING_WINNER_PADDING_Heroic_PADDING_2.15_PADDING_AVANGAR_PADDING_1.65_PADDING_+67_PADDING_UPCOMING GAMES_PADDING_OUTRIGHTS_PADDING_RESULTS_PADDING_GG.BET COLOGNE INVITATIONAL_PADDING_LIVE_PADDING_05:00_PADDING_JUN 13_PADDING_Sprout_PADDING_X_PADDING_NoChance_PADDING_WINNER_PADDING_1.6_PADDING_2.23_PADDING_1ST MAP - ROUND HANDICAP (INCL. OVERTIME)_PADDING_-3.5_PADDING_2.1_PADDING_+3.5_PADDING_1.67_PADDING_1ST MAP - TOTAL ROUNDS (INCL. OVERTIME)_PADDING_Total_PADDING_Over_PADDING_26.5_PADDING_1.9_PADDING_1.83_PADDING_19_PADDING__'"
      ]
     },
     "execution_count": 65,
     "metadata": {},
     "output_type": "execute_result"
    }
   ],
   "source": [
    "text.split('ROW_BREAK')[0]"
   ]
  },
  {
   "cell_type": "code",
   "execution_count": 19,
   "metadata": {},
   "outputs": [
    {
     "data": {
      "text/plain": [
       "\"FILTERS\\nMATCH\\nOF THE DAY\\nWINNER\\nHeroic\\n2.15\\nAVANGAR\\n1.65\\n+67\\nUPCOMING GAMES\\nOUTRIGHTS\\nRESULTS\\nGG.BET COLOGNE INVITATIONAL\\nLIVE\\n05:00\\nJUN 13\\nSprout\\nX\\nNoChance\\nWINNER\\n1.6\\n2.23\\n1ST MAP - ROUND HANDICAP (INCL. OVERTIME)\\n-3.5\\n2.1\\n+3.5\\n1.67\\n1ST MAP - TOTAL ROUNDS (INCL. OVERTIME)\\nTotal\\nOver\\nUnder\\n26.5\\n1.9\\n1.83\\n19\\nGAMEAGENTS LEAGUE SEASON 3\\nLIVE\\n05:00\\nJUN 13\\nNemiga\\nX\\nNordavind\\nWINNER\\n1.98\\n1.76\\n1ST MAP - ROUND HANDICAP (INCL. OVERTIME)\\n+3.5\\n1.54\\n-3.5\\n2.35\\n1ST MAP - TOTAL ROUNDS (INCL. OVERTIME)\\nTotal\\nOver\\nUnder\\n26.5\\n1.88\\n1.85\\n19\\nLOOT.BET SMACK MY BEACH CIS QUALIFIER\\nLIVE\\n06:00\\nJUN 13\\nSyman\\nX\\nNONAME\\nWINNER\\n1.1\\n6.19\\nMAP HANDICAP\\n-1.5\\n1.42\\n+1.5\\n2.71\\nTOTAL MAPS\\nTotal\\nOver\\nUnder\\n2.5\\n2.98\\n1.36\\n45\\nGG.BET COLOGNE INVITATIONAL\\nLIVE\\n06:15\\nJUN 13\\nLiquid\\nX\\nSpirit\\nWINNER\\n1.12\\n5.61\\n1ST MAP - ROUND HANDICAP (INCL. OVERTIME)\\n-7.5\\n1.92\\n+7.5\\n1.81\\n1ST MAP - TOTAL ROUNDS (INCL. OVERTIME)\\nTotal\\nOver\\nUnder\\n24.5\\n1.9\\n1.83\\n19\\nESEA MDL SEASON 31 EUROPE\\nLIVE\\n07:00\\nJUN 13\\nChaos\\nX\\nforZe\\nWINNER\\n2.07\\n1.69\\n1ST MAP - ROUND HANDICAP (INCL. OVERTIME)\\n+3.5\\n1.59\\n-3.5\\n2.25\\n1ST MAP - TOTAL ROUNDS (INCL. OVERTIME)\\nTotal\\nOver\\nUnder\\n26.5\\n1.88\\n1.84\\n19\\nLIVE\\n07:00\\nJUN 13\\nAGO\\nX\\nALTERNATE aTTaX\\n1.59\\n2.25\\n-3.5\\n2.09\\n+3.5\\n1.68\\nTotal\\nOver\\nUnder\\n26.5\\n1.9\\n1.83\\n19\\nWINNERS LEAGUE SEASON 2 EUROPE\\nLIVE\\n07:00\\nJUN 13\\nDreamEaters\\nX\\nOFFSET\\nWINNER\\n1.59\\n2.24\\nMAP HANDICAP\\n-1.5\\n2.63\\n+1.5\\n1.44\\nTOTAL MAPS\\nTotal\\nOver\\nUnder\\n2.5\\n1.91\\n1.81\\n45\\nFINNISH ESPORTS LEAGUE SEASON 6\\nLIVE\\n08:00\\nJUN 13\\nHAVU\\nX\\nHelsinki REDS\\nWINNER\\n1.08\\n6.44\\nHANDICAP\\n-\\n-\\nTOTAL\\nTotal\\nOver\\nUnder\\n-\\nESEA MDL SEASON 31 EUROPE\\nLIVE\\n08:00\\nJUN 13\\nCR4ZY\\nX\\nx-kom\\nWINNER\\n1.24\\n3.77\\n1ST MAP - ROUND HANDICAP (INCL. OVERTIME)\\n-5.5\\n1.87\\n+5.5\\n1.85\\n1ST MAP - TOTAL ROUNDS (INCL. OVERTIME)\\nTotal\\nOver\\nUnder\\n25.5\\n1.87\\n1.86\\n19\\nLIVE\\n09:00\\nJUN 13\\nCR4ZY\\nX\\nVitality\\n2.44\\n1.51\\n+3.5\\n1.78\\n-3.5\\n1.95\\nTotal\\nOver\\nUnder\\n26.5\\n1.93\\n1.8\\n19\\nKALASHNIKOV CUP SEASON 2\\nLIVE\\n09:00\\nJUN 13\\nNemiga\\nX\\nTRICKED\\nWINNER\\n2.12\\n1.66\\nMAP HANDICAP\\n+1.5\\n1.35\\n-1.5\\n2.99\\nTOTAL MAPS\\nTotal\\nOver\\nUnder\\n2.5\\n1.88\\n1.85\\n45\\nESEA MDL SEASON 31 EUROPE\\nLIVE\\n09:00\\nJUN 13\\nALTERNATE aTTaX\\nX\\npro100\\nWINNER\\n1.84\\n1.88\\n1ST MAP - ROUND HANDICAP (INCL. OVERTIME)\\n-3.5\\n2.49\\n+3.5\\n1.49\\n1ST MAP - TOTAL ROUNDS (INCL. OVERTIME)\\nTotal\\nOver\\nUnder\\n26.5\\n1.88\\n1.85\\n19\\nAMERICAS MINOR NORTH AMERICA CLOSED QUALIFIER - STARLADDER MAJOR 2019\\nLIVE\\n09:00\\nJUN 13\\nPeeker's Advantage\\nX\\nATK\\nWINNER\\n2.74\\n1.41\\nMAP HANDICAP\\n+1.5\\n1.58\\n-1.5\\n2.27\\nTOTAL MAPS\\nTotal\\nOver\\nUnder\\n2.5\\n2\\n1.75\\n45\\nESEA MDL SEASON 31 EUROPE\\nLIVE\\n09:00\\nJUN 13\\nChaos\\nX\\nIzako Boars\\nWINNER\\n1.4\\n2.8\\n1ST MAP - ROUND HANDICAP (INCL. OVERTIME)\\n-3.5\\n1.77\\n+3.5\\n1.97\\n1ST MAP - TOTAL ROUNDS (INCL. OVERTIME)\\nTotal\\nOver\\nUnder\\n26.5\\n2\\n1.74\\n19\\nAMERICAS MINOR NORTH AMERICA CLOSED QUALIFIER - STARLADDER MAJOR 2019\\nLIVE\\n09:00\\nJUN 13\\nParty Astronauts\\nX\\nEnvy\\nWINNER\\n4.83\\n1.15\\nMAP HANDICAP\\n+1.5\\n2.16\\n-1.5\\n1.64\\nTOTAL MAPS\\nTotal\\nOver\\nUnder\\n2.5\\n2.47\\n1.5\\n45\\nESEA MDL SEASON 31 EUROPE\\nLIVE\\n10:00\\nJUN 13\\nCR4ZY\\nX\\nIzako Boars\\nWINNER\\n1.15\\n5\\n1ST MAP - ROUND HANDICAP (INCL. OVERTIME)\\n-6.5\\n1.8\\n+6.5\\n1.93\\n1ST MAP - TOTAL ROUNDS (INCL. OVERTIME)\\nTotal\\nOver\\nUnder\\n24.5\\n1.8\\n1.93\\n19\\nLIVE\\n10:00\\nJUN 13\\nVitality\\nX\\nMovistar Riders\\n1.32\\n3.17\\n-4.5\\n1.88\\n+4.5\\n1.84\\nTotal\\nOver\\nUnder\\n25.5\\n1.75\\n1.99\\n19\\nESL ONE COLOGNE 2019 EUROPE CLOSED QUALIFIER\\nLIVE\\n10:00\\nJUN 13\\nHeroic\\nX\\nAVANGAR\\nWINNER\\n2.15\\n1.65\\nMAP HANDICAP\\n+1.5\\n1.34\\n-1.5\\n3.06\\nTOTAL MAPS\\nTotal\\nOver\\nUnder\\n2.5\\n1.86\\n1.87\\n65\\nFINNISH ESPORTS LEAGUE SEASON 6\\nLIVE\\n11:00\\nJUN 13\\nSJ\\nX\\nKOVA Esports\\nWINNER\\n1.35\\n2.93\\nHANDICAP\\n-\\n-\\nTOTAL\\nTotal\\nOver\\nUnder\\n-\\nESEA MDL SEASON 31 EUROPE\\nLIVE\\n11:00\\nJUN 13\\nVitality\\nX\\nx-kom\\nWINNER\\n1.21\\n4.06\\n1ST MAP - ROUND HANDICAP (INCL. OVERTIME)\\n-5.5\\n1.79\\n+5.5\\n1.94\\n1ST MAP - TOTAL ROUNDS (INCL. OVERTIME)\\nTotal\\nOver\\nUnder\\n25.5\\n1.93\\n1.8\\n19\\nLIVE\\n11:00\\nJUN 13\\nEpsilon\\nX\\nIzako Boars\\n1.34\\n3.05\\n-4.5\\n1.9\\n+4.5\\n1.82\\nTotal\\nOver\\nUnder\\n25.5\\n1.73\\n2.01\\n19\\nAMERICAS MINOR NORTH AMERICA CLOSED QUALIFIER - STARLADDER MAJOR 2019\\nLIVE\\n12:10\\nJUN 13\\nThe Quest\\nX\\nCloud9\\nWINNER\\n6.84\\n1.08\\nMAP HANDICAP\\n+1.5\\n3.02\\n-1.5\\n1.35\\nTOTAL MAPS\\nTotal\\nOver\\nUnder\\n2.5\\n3.27\\n1.3\\n45\\nESEA MDL SEASON 31 EUROPE\\nLIVE\\n13:00\\nJUN 13\\nexpert\\nX\\nHAVU\\nWINNER\\n3.36\\n1.29\\n1ST MAP - ROUND HANDICAP (INCL. OVERTIME)\\n+4.5\\n2\\n-4.5\\n1.75\\n1ST MAP - TOTAL ROUNDS (INCL. OVERTIME)\\nTotal\\nOver\\nUnder\\n25.5\\n1.79\\n1.94\\n19\\nLIVE\\n14:00\\nJUN 13\\nSprout\\nX\\nEpsilon\\n1.44\\n2.65\\n-3.5\\n1.84\\n+3.5\\n1.89\\nTotal\\nOver\\nUnder\\n26.5\\n1.97\\n1.77\\n19\\nAMERICAS MINOR NORTH AMERICA CLOSED QUALIFIER - STARLADDER MAJOR 2019\\nLIVE\\n15:00\\nJUN 13\\nFURIA\\nX\\nTeamOne\\nWINNER\\n1.07\\n7.03\\nMAP HANDICAP\\n-1.5\\n1.46\\n+1.5\\n2.56\\nTOTAL MAPS\\nTotal\\nOver\\nUnder\\n2.5\\n2.84\\n1.39\\n45\\nLIVE\\n15:00\\nJUN 13\\nLuminosity\\nX\\nLazarus\\n1.63\\n2.18\\n-1.5\\n2.91\\n+1.5\\n1.37\\nTotal\\nOver\\nUnder\\n2.5\\n1.88\\n1.84\\n45\\nESEA MDL SEASON 31 NORTH AMERICA\\nLIVE\\n17:00\\nJUN 13\\nThunder Logic\\nX\\nBushido Boyz\\nWINNER\\n2.05\\n1.71\\n1ST MAP - ROUND HANDICAP (INCL. OVERTIME)\\n+3.5\\n1.58\\n-3.5\\n2.27\\n1ST MAP - TOTAL ROUNDS (INCL. OVERTIME)\\nTotal\\nOver\\nUnder\\n26.5\\n1.88\\n1.85\\n19\\nAMERICAS MINOR NORTH AMERICA CLOSED QUALIFIER - STARLADDER MAJOR 2019\\nLIVE\\n18:10\\nJUN 13\\neUnited\\nX\\nNew Identity\\nWINNER\\n1.16\\n4.81\\nMAP HANDICAP\\n-1.5\\n1.71\\n+1.5\\n2.04\\nTOTAL MAPS\\nTotal\\nOver\\nUnder\\n2.5\\n2.37\\n1.54\\n45\\nESEA MDL SEASON 31 NORTH AMERICA\\nLIVE\\n19:00\\nJUN 13\\nBushido Boyz\\nX\\nBad News Bears\\nWINNER\\n3.36\\n1.29\\n1ST MAP - ROUND HANDICAP (INCL. OVERTIME)\\n+4.5\\n1.94\\n-4.5\\n1.79\\n1ST MAP - TOTAL ROUNDS (INCL. OVERTIME)\\nTotal\\nOver\\nUnder\\n25.5\\n1.79\\n1.94\\n19\\nLIVE\\n19:00\\nJUN 13\\nThunder Logic\\nX\\nAscent\\n2.34\\n1.55\\n+3.5\\n1.73\\n-3.5\\n2.01\\nTotal\\nOver\\nUnder\\n26.5\\n1.91\\n1.81\\n19\\nGG.BET COLOGNE INVITATIONAL\\nLIVE\\n05:00\\nJUN 14\\nHellRaisers\\nX\\nWindigo\\nWINNER\\n1.45\\n2.61\\n1ST MAP - ROUND HANDICAP (INCL. OVERTIME)\\n-3.5\\n1.85\\n+3.5\\n1.87\\n1ST MAP - TOTAL ROUNDS (INCL. OVERTIME)\\nTotal\\nOver\\nUnder\\n26.5\\n1.96\\n1.77\\n19\\nLIVE\\n06:15\\nJUN 14\\nG2\\nX\\nMovistar Riders\\n1.28\\n3.44\\n-4.5\\n1.77\\n+4.5\\n1.97\\nTotal\\nOver\\nUnder\\n25.5\\n1.8\\n1.93\\n19\\nDREAMHACK OPEN SUMMER 2019\\n03:00\\nJUN 15\\nAVANGAR\\nX\\nWinstrike\\nWINNER\\n1.21\\n4.06\\n1ST MAP - ROUND HANDICAP (INCL. OVERTIME)\\n-5.5\\n1.79\\n+5.5\\n1.94\\n1ST MAP - TOTAL ROUNDS (INCL. OVERTIME)\\nTotal\\nOver\\nUnder\\n25.5\\n1.93\\n1.8\\n19\\n04:30\\nJUN 15\\nCR4ZY\\nX\\nAncient\\n1.38\\n2.85\\n-4.5\\n1.99\\n+4.5\\n1.75\\nTotal\\nOver\\nUnder\\n26.5\\n2.01\\n1.74\\n19\\n06:00\\nJUN 15\\nTRICKED\\nX\\nAristocracy\\n2.41\\n1.52\\n+3.5\\n1.77\\n-3.5\\n1.97\\nTotal\\nOver\\nUnder\\n26.5\\n1.93\\n1.8\\n19\\n07:30\\nJUN 15\\nOpTic\\nX\\nChaos\\n1.35\\n3\\n-4.5\\n1.93\\n+4.5\\n1.8\\nTotal\\nOver\\nUnder\\n25.5\\n1.72\\n2.03\\n19\""
      ]
     },
     "execution_count": 19,
     "metadata": {},
     "output_type": "execute_result"
    }
   ],
   "source": [
    "soup.text"
   ]
  },
  {
   "cell_type": "code",
   "execution_count": null,
   "metadata": {},
   "outputs": [],
   "source": []
  },
  {
   "cell_type": "code",
   "execution_count": null,
   "metadata": {},
   "outputs": [],
   "source": []
  }
 ],
 "metadata": {
  "kernelspec": {
   "display_name": "Python 3",
   "language": "python",
   "name": "python3"
  },
  "language_info": {
   "codemirror_mode": {
    "name": "ipython",
    "version": 3
   },
   "file_extension": ".py",
   "mimetype": "text/x-python",
   "name": "python",
   "nbconvert_exporter": "python",
   "pygments_lexer": "ipython3",
   "version": "3.6.8"
  }
 },
 "nbformat": 4,
 "nbformat_minor": 2
}
